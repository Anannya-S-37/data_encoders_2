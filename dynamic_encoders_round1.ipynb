{
 "cells": [
  {
   "cell_type": "code",
   "execution_count": null,
   "metadata": {
    "id": "kAcEo01KE2ao"
   },
   "outputs": [],
   "source": [
    "import pandas as pd\n",
    "import matplotlib.pyplot as plt\n",
    "import seaborn as sns\n",
    "from collections import Counter\n",
    "from ast import literal_eval\n",
    "\n",
    "from sklearn.preprocessing import OneHotEncoder\n",
    "from sklearn.feature_extraction.text import TfidfVectorizer\n",
    "from sklearn.compose import ColumnTransformer\n",
    "from sklearn.pipeline import Pipeline\n",
    "from sklearn.impute import SimpleImputer\n",
    "import numpy as np\n",
    "from sklearn.preprocessing import MinMaxScaler, StandardScaler\n",
    "from scipy.stats import pearsonr\n",
    "\n"
   ]
  },
  {
   "cell_type": "code",
   "execution_count": null,
   "metadata": {
    "colab": {
     "base_uri": "https://localhost:8080/",
     "height": 293
    },
    "id": "77enmVXdnxaP",
    "outputId": "ff30221f-346d-4a68-db7a-1de2ec0efdd9"
   },
   "outputs": [],
   "source": [
    "df = pd.read_csv('C:\\\\Users\\\\LENOVO\\\\Downloads\\\\codrelate\\\\AI-Powered Content Analysis and Recommendation.csv')\n",
    "df.head()"
   ]
  },
  {
   "cell_type": "code",
   "execution_count": null,
   "metadata": {
    "colab": {
     "base_uri": "https://localhost:8080/"
    },
    "id": "o_M-GcxmzKNj",
    "outputId": "194e641b-349d-47f3-846b-f43c5ab34c84"
   },
   "outputs": [],
   "source": [
    "categorical_columns = df.select_dtypes(include=['object']).columns\n",
    "numerical_columns = df.select_dtypes(include=['number']).columns\n",
    "\n",
    "print(\"Categorical Columns: \", categorical_columns)\n",
    "print(\"Numerical Columns: \", numerical_columns)\n"
   ]
  },
  {
   "cell_type": "code",
   "execution_count": null,
   "metadata": {
    "colab": {
     "base_uri": "https://localhost:8080/"
    },
    "id": "X25r7OsYrf51",
    "outputId": "cae804ca-b493-49b1-ead9-fc049c1455af"
   },
   "outputs": [],
   "source": [
    "print(\"Shape of data:\", df.shape)\n",
    "df.info()\n"
   ]
  },
  {
   "cell_type": "code",
   "execution_count": null,
   "metadata": {
    "colab": {
     "base_uri": "https://localhost:8080/"
    },
    "id": "ZjyjoI7GvtRI",
    "outputId": "af0fc119-70fe-4887-8dcf-205d44d15144"
   },
   "outputs": [],
   "source": [
    "df.columns"
   ]
  },
  {
   "cell_type": "code",
   "execution_count": null,
   "metadata": {
    "colab": {
     "base_uri": "https://localhost:8080/",
     "height": 192
    },
    "id": "nAJAaV4prtWv",
    "outputId": "d5b6d170-3249-4849-d7c7-68baa42c4ec0"
   },
   "outputs": [],
   "source": [
    "df.describe()"
   ]
  },
  {
   "cell_type": "code",
   "execution_count": null,
   "metadata": {
    "colab": {
     "base_uri": "https://localhost:8080/"
    },
    "id": "jwfQx9anvhax",
    "outputId": "10a6bcaa-ffe6-4ca0-e7e9-787b2b33fbc6"
   },
   "outputs": [],
   "source": [
    "df.duplicated().sum()"
   ]
  },
  {
   "cell_type": "code",
   "execution_count": null,
   "metadata": {
    "colab": {
     "base_uri": "https://localhost:8080/",
     "height": 272
    },
    "id": "_jrhKmEnryW-",
    "outputId": "5dacd24b-2151-42bd-8dab-5abd2627ee29"
   },
   "outputs": [],
   "source": [
    "df.isnull().sum()"
   ]
  },
  {
   "cell_type": "code",
   "execution_count": null,
   "metadata": {
    "colab": {
     "base_uri": "https://localhost:8080/"
    },
    "id": "KKbk7NeHr4bZ",
    "outputId": "d766dee6-90c6-48c6-a2a6-72536bcc49cc"
   },
   "outputs": [],
   "source": [
    "print(\"Data types:\\n\", df.dtypes)"
   ]
  },
  {
   "cell_type": "code",
   "execution_count": null,
   "metadata": {
    "colab": {
     "base_uri": "https://localhost:8080/"
    },
    "id": "bHgk51kQr-43",
    "outputId": "1ebdf135-b0cd-44af-b71d-04f74fd13827"
   },
   "outputs": [],
   "source": [
    "print(\"\\nBasic Dataset Info:\\n\", df.describe(include='all'))"
   ]
  },
  {
   "cell_type": "code",
   "execution_count": null,
   "metadata": {
    "id": "pz6bDoBvsRyM"
   },
   "outputs": [],
   "source": [
    "df['timestamp'] = pd.to_datetime(df['timestamp'], errors='coerce')\n"
   ]
  },
  {
   "cell_type": "code",
   "execution_count": null,
   "metadata": {
    "colab": {
     "base_uri": "https://localhost:8080/"
    },
    "id": "thtEGX1cwCVo",
    "outputId": "d2bb3ad6-85c2-4d3d-8d0e-222b33e15667"
   },
   "outputs": [],
   "source": [
    "df['year_month'] = df['timestamp'].dt.to_period('M')\n"
   ]
  },
  {
   "cell_type": "code",
   "execution_count": null,
   "metadata": {
    "colab": {
     "base_uri": "https://localhost:8080/",
     "height": 607
    },
    "id": "oEWQcV3Cwk8U",
    "outputId": "44ad7130-fd8d-4288-e372-89fff4220cd5"
   },
   "outputs": [],
   "source": [
    "monthly_articles = df.groupby('year_month').size()\n",
    "plt.figure(figsize=(12, 6))\n",
    "monthly_articles.plot(kind='line', marker='o', color='royalblue')\n",
    "plt.title('Articles Published Over Time')\n",
    "plt.xlabel('Month')\n",
    "plt.ylabel('Number of Articles')\n",
    "plt.xticks(rotation=45)\n",
    "plt.grid(True)\n",
    "plt.tight_layout()\n",
    "plt.show()\n"
   ]
  },
  {
   "cell_type": "code",
   "execution_count": null,
   "metadata": {
    "id": "6TQ7pryQwr61"
   },
   "outputs": [],
   "source": [
    "df['authors'] = df['authors'].apply(literal_eval)\n"
   ]
  },
  {
   "cell_type": "code",
   "execution_count": null,
   "metadata": {
    "id": "yMXTJjNCwxSl"
   },
   "outputs": [],
   "source": [
    "all_authors = [author for sublist in df['authors'] for author in sublist]\n",
    "top_authors = Counter(all_authors).most_common(10)\n",
    "\n"
   ]
  },
  {
   "cell_type": "code",
   "execution_count": null,
   "metadata": {
    "colab": {
     "base_uri": "https://localhost:8080/",
     "height": 598
    },
    "id": "ZUdqxmQ4w40z",
    "outputId": "bf1f03ae-3bed-4b45-e6c5-9fc5837fe25d"
   },
   "outputs": [],
   "source": [
    "author_names, author_counts = zip(*top_authors)\n",
    "plt.figure(figsize=(10, 5))\n",
    "sns.barplot(x=list(author_counts), y=list(author_names), palette=\"viridis\")\n",
    "plt.title('Top 10 Authors by Article Count')\n",
    "plt.xlabel('Number of Articles')\n",
    "plt.ylabel('Author')\n",
    "plt.tight_layout()\n",
    "plt.show()\n"
   ]
  },
  {
   "cell_type": "code",
   "execution_count": null,
   "metadata": {
    "id": "pcgabQc1w_Kz"
   },
   "outputs": [],
   "source": [
    "df['tags'] = df['tags'].apply(literal_eval)"
   ]
  },
  {
   "cell_type": "code",
   "execution_count": null,
   "metadata": {
    "id": "Jn-7XcWDxIpR"
   },
   "outputs": [],
   "source": [
    "all_tags = [tag for sublist in df['tags'] for tag in sublist]\n",
    "top_tags = Counter(all_tags).most_common(10)\n",
    "\n"
   ]
  },
  {
   "cell_type": "code",
   "execution_count": null,
   "metadata": {
    "colab": {
     "base_uri": "https://localhost:8080/",
     "height": 598
    },
    "id": "vEId6XmExNxT",
    "outputId": "815b1898-dbde-4f23-f8c3-ae85114bee70"
   },
   "outputs": [],
   "source": [
    "tag_names, tag_counts = zip(*top_tags)\n",
    "plt.figure(figsize=(10, 5))\n",
    "sns.barplot(x=list(tag_counts), y=list(tag_names), palette=\"magma\")\n",
    "plt.title('Top 10 Tags')\n",
    "plt.xlabel('Number of Mentions')\n",
    "plt.ylabel('Tag')\n",
    "plt.tight_layout()\n",
    "plt.show()"
   ]
  },
  {
   "cell_type": "code",
   "execution_count": null,
   "metadata": {
    "id": "z9WsIG226lyM"
   },
   "outputs": [],
   "source": [
    "df[numerical_columns] = df[numerical_columns].interpolate()"
   ]
  },
  {
   "cell_type": "code",
   "execution_count": null,
   "metadata": {
    "id": "KZ6jYCAL8eE7"
   },
   "outputs": [],
   "source": [
    "df[categorical_columns] = df[categorical_columns].fillna(df[categorical_columns].mode()[0])"
   ]
  },
  {
   "cell_type": "code",
   "execution_count": null,
   "metadata": {
    "id": "cz4SkOus9Z6o"
   },
   "outputs": [],
   "source": [
    "categorical_columns = ['title', 'authors', 'tags']"
   ]
  },
  {
   "cell_type": "code",
   "execution_count": null,
   "metadata": {
    "id": "Plp0biHe9qSq"
   },
   "outputs": [],
   "source": [
    "preprocessor = ColumnTransformer(\n",
    "    transformers=[\n",
    "        # Apply OneHotEncoder to categorical columns\n",
    "        ('cat', OneHotEncoder(), categorical_columns)\n",
    "    ],\n",
    "    remainder='passthrough'  # Keep other columns unchanged\n",
    ")"
   ]
  },
  {
   "cell_type": "code",
   "execution_count": null,
   "metadata": {
    "id": "sqZfSCI998kn"
   },
   "outputs": [],
   "source": [
    "df_transformed = preprocessor.fit_transform(df)"
   ]
  },
  {
   "cell_type": "code",
   "execution_count": null,
   "metadata": {
    "id": "QdkCGCc7-KZH"
   },
   "outputs": [],
   "source": [
    "/AI-Powered Content Analysis and Recommendation.csv = {\n",
    "    'title': [\n",
    "        \"Mental Note Vol. 24\", \"Your Brain On Coronavirus\", \"Mind Your Nose\", \"The 4 Purposes of Dreams\",\n",
    "        \"Surviving a Rod Through the Head\", \"Mentally, Young Adults Are Suffering Most From COVID\",\n",
    "        \"How to Turn Your Popular Blog Series Into a Bestselling Book\", \"Dr Faisal Dar — Pioneer of Liver Transplantation in Pakistan\",\n",
    "        \"Sunlight — The Natural Supplement For Our Mental Health\", \"Occam’s dice\", \"Is Six Feet of Social Distancing Always Necessary?\",\n",
    "        \"Grandma Wants Revenge on Reindeer Who Ran Her Over\", \"Exploring the question of whether submarines can swim\",\n",
    "        \"Predicting American ICU Saturation During COVID-19\", \"Purge your Followers, Bring an Instagram Account Back to Life\"\n",
    "    ],\n",
    "    'text': [\"Merry Christmas...\" * 100, \"Your Brain...\" * 150, \"Mind Your Nose...\" * 120, \"Passionate about...\" * 80,\n",
    "             \"You’ve heard...\" * 90, \"Mentally, Young...\" * 110, \"How to Turn...\" * 130, \"Dr Faisal Dar...\" * 140,\n",
    "             \"Sunlight — The...\" * 100, \"Occam’s dice...\" * 160, \"6 Feet Apart...\" * 115, \"Grandma Wants...\" * 85,\n",
    "             \"Exploring the...\" * 95, \"Like everybody...\" * 145, \"Purge your...\" * 105],\n",
    "    'authors': [['Ryan Fan'], ['Simon Spichak'], [], ['Eshan Samaranayake'], ['Rishav Sinha'], ['Ryan Fan'], ['Frank Mckinley'],\n",
    "                ['Fatima Arif'], ['Jerren Gan'], ['Dr. Jason Fung'], ['Markham Heid'], ['Ryan Fan'], ['Danielle Boccelli'],\n",
    "                ['Bj Campbell'], ['Charles Tumiotto Jackson']],\n",
    "    'timestamp': ['2020-12-26', '2020-09-23', '2020-10-10', '2020-12-21', '2020-02-26', '2020-11-19', '2020-01-28',\n",
    "                  '2019-02-28', '2020-12-16', '2019-02-20', '2020-07-31', '2020-12-24', '2020-12-20', '2020-04-14',\n",
    "                  '2020-11-06'],\n",
    "    'tags': [['Mental Health', 'Health', 'Psychology', 'Science', 'Neuroscience'], ['Mental Health', 'Coronavirus', 'Science', 'Psychology', 'Neuroscience'],\n",
    "             ['Biotechnology', 'Neuroscience', 'Brain', 'Wellness', 'Science'], ['Health', 'Neuroscience', 'Mental Health', 'Psychology', 'Science'],\n",
    "             ['Brain', 'Health', 'Development', 'Psychology', 'Science'], ['Society', 'Mental Health', 'Health', 'Nonfiction', 'Coronavirus'],\n",
    "             ['Books', 'Entrepreneurship', 'Writing', 'Marketing', 'Productivity'], ['People', 'Storyfest', 'Health', 'Pakistan', 'Storytelling'],\n",
    "             ['Self Improvement', 'Mental Health', 'Health', 'Wellness', 'Science'], ['Longevity', 'Wellness', 'Aging', 'Health', 'Nutrition'],\n",
    "             ['Health', 'Pandemic', 'Covid 19', 'The Nuance', 'Coronavirus'], ['Social Media', 'Satire', 'Humor', 'Books', 'Music'],\n",
    "             ['AI', 'Artificial Intelligence', 'Data Science', 'Computer Science', 'NLP'], ['Coronavirus', 'Covid 19', 'Health', 'Media Criticism', 'Random'],\n",
    "             ['Marketing', 'Business', 'Startup', 'Social Media', 'Instagram']]\n",
    "}\n",
    "\n"
   ]
  },
  {
   "cell_type": "code",
   "execution_count": null,
   "metadata": {
    "id": "xa0ZTZj4-tIN"
   },
   "outputs": [],
   "source": [
    "# Create DataFrame\n",
    "df = pd.DataFrame(/AI-Powered Content Analysis and Recommendation.csv)\n",
    "df['text_length'] = df['text'].apply(len)\n",
    "df['author_count'] = df['authors'].apply(len)\n",
    "df['tag_count'] = df['tags'].apply(len)\n",
    "df['timestamp'] = pd.to_datetime(df['timestamp'])\n",
    "df['timestamp_year'] = df['timestamp'].dt.year\n",
    "df['timestamp_month'] = df['timestamp'].dt.month"
   ]
  },
  {
   "cell_type": "code",
   "execution_count": null,
   "metadata": {
    "id": "olB-B_3c_DiA"
   },
   "outputs": [],
   "source": [
    "df['engagement'] = np.random.randint(50, 500, size=len(df))"
   ]
  },
  {
   "cell_type": "code",
   "execution_count": null,
   "metadata": {
    "id": "l3elIcmp_N2s"
   },
   "outputs": [],
   "source": [
    "plt.figure(figsize=(12, 8))\n",
    "plt.subplot(2, 2, 1)\n",
    "plt.hist(df['text_length'], bins=10, color='skyblue')\n",
    "plt.title('Distribution of Text Length')\n",
    "plt.xlabel('Text Length')\n",
    "plt.ylabel('Frequency')\n",
    "\n",
    "plt.subplot(2, 2, 2)\n",
    "plt.hist(df['tag_count'], bins=5, color='lightgreen')\n",
    "plt.title('Distribution of Tag Count')\n",
    "plt.xlabel('Tag Count')\n",
    "plt.ylabel('Frequency')\n",
    "plt.tight_layout()\n",
    "plt.show()"
   ]
  },
  {
   "cell_type": "code",
   "execution_count": null,
   "metadata": {
    "id": "heroXdWW_RRL"
   },
   "outputs": [],
   "source": [
    "plt.figure(figsize=(10, 6))\n",
    "sns.boxplot(x='timestamp_year', y='text_length', data=df)\n",
    "plt.title('Text Length by Year')\n",
    "plt.show()"
   ]
  },
  {
   "cell_type": "code",
   "execution_count": null,
   "metadata": {
    "id": "oXZytXij_WoF"
   },
   "outputs": [],
   "source": [
    "# Correlation Heatmap\n",
    "correlation_matrix = df[['text_length', 'author_count', 'tag_count', 'timestamp_year', 'timestamp_month', 'engagement']].corr()\n",
    "plt.figure(figsize=(8, 6))\n",
    "sns.heatmap(correlation_matrix, annot=True, cmap='coolwarm', vmin=-1, vmax=1)\n",
    "plt.title('Correlation Heatmap')\n",
    "plt.show()\n"
   ]
  },
  {
   "cell_type": "code",
   "execution_count": null,
   "metadata": {
    "id": "GNylChix_egK"
   },
   "outputs": [],
   "source": [
    "sns.pairplot(df[['text_length', 'tag_count', 'engagement', 'timestamp_year']], hue='timestamp_year')\n",
    "plt.show()"
   ]
  },
  {
   "cell_type": "code",
   "execution_count": null,
   "metadata": {
    "id": "lerbMVn-E4Z5"
   },
   "outputs": [],
   "source": [
    "# Subplot Dashboard\n",
    "fig = make_subplots(rows=2, cols=2, subplot_titles=('Text Length Distribution', 'Engagement vs Text Length',\n",
    "                                                     'Articles by Year', 'Tag Count by Month'))\n",
    "\n",
    "# Histogram\n",
    "fig.add_trace(go.Histogram(x=df['text_length'], name='Text Length'), row=1, col=1)"
   ]
  },
  {
   "cell_type": "code",
   "execution_count": null,
   "metadata": {
    "id": "-42qvM8YF-0D"
   },
   "outputs": [],
   "source": [
    "fig.add_trace(go.Scatter(x=df['text_length'], y=df['engagement'], mode='markers', marker=dict(color=df['timestamp_year']),\n",
    "                         name='Engagement'), row=1, col=2)"
   ]
  },
  {
   "cell_type": "code",
   "execution_count": null,
   "metadata": {
    "id": "oQVi9-AVGMyV"
   },
   "outputs": [],
   "source": [
    "year_counts = df['timestamp_year'].value_counts().sort_index()\n",
    "fig.add_trace(go.Bar(x=year_counts.index, y=year_counts.values, name='Articles'), row=2, col=1)"
   ]
  },
  {
   "cell_type": "code",
   "execution_count": null,
   "metadata": {
    "id": "gSp0j_AMGRE0"
   },
   "outputs": [],
   "source": [
    "fig.add_trace(go.Box(x=df['timestamp_month'], y=df['tag_count'], name='Tag Count'), row=2, col=2)\n",
    "\n",
    "fig.update_layout(height=800, width=1000, title_text=\"Interactive Dashboard: Article Analysis\")\n",
    "fig.show()"
   ]
  },
  {
   "cell_type": "code",
   "execution_count": null,
   "metadata": {
    "id": "PmUr8VUFGUSI"
   },
   "outputs": [],
   "source": [
    "\"What factors influence article engagement?\")\n",
    "print(\"\\nInsights:\")\n",
    "# Correlation with engagement\n",
    "print(\"Correlation with Engagement:\")\n",
    "print(correlation_matrix['engagement'].sort_values(ascending=False))"
   ]
  },
  {
   "cell_type": "code",
   "execution_count": null,
   "metadata": {
    "id": "f5Dkj_vnGamw"
   },
   "outputs": [],
   "source": [
    "yearly_engagement = df.groupby('timestamp_year')['engagement'].mean()\n",
    "monthly_engagement = df.groupby('timestamp_month')['engagement'].mean()\n",
    "print(\"\\nAverage Engagement by Year:\")\n",
    "print(yearly_engagement)\n",
    "print(\"\\nAverage Engagement by Month:\")\n",
    "print(monthly_engagement)"
   ]
  },
  {
   "cell_type": "code",
   "execution_count": null,
   "metadata": {
    "id": "ERlXBgqEGd6D"
   },
   "outputs": [],
   "source": [
    "print(\"\\nKey Factors Affecting Engagement:\")\n",
    "print(\"- Text Length: Longer articles may correlate with higher/lower engagement (check correlation).\")\n",
    "print(\"- Tag Count: More tags might indicate broader appeal (check scatter plot).\")\n",
    "print(\"- Publication Timing: Certain months/years show higher engagement (check bar/box plots).\")"
   ]
  },
  {
   "cell_type": "code",
   "execution_count": null,
   "metadata": {
    "id": "3-88GXpTGiFI"
   },
   "outputs": [],
   "source": [
    "#feature scaling\n",
    "import pandas as pd\n",
    "import numpy as np\n",
    "from sklearn.preprocessing import MinMaxScaler, StandardScaler\n",
    "from textstat import flesch_reading_ease  # For text complexity\n",
    "from scipy.stats import pearsonr\n",
    "\n",
    "# Simulated dataset (replace with your actual preprocessed data)\n",
    "/AI-Powered Content Analysis and Recommendation.csv = {\n",
    "    'title': [\n",
    "        \"Mental Note Vol. 24\", \"Your Brain On Coronavirus\", \"Mind Your Nose\", \"The 4 Purposes of Dreams\",\n",
    "        \"Surviving a Rod Through the Head\", \"Mentally, Young Adults Are Suffering Most From COVID\",\n",
    "        \"How to Turn Your Popular Blog Series Into a Bestselling Book\", \"Dr Faisal Dar — Pioneer of Liver Transplantation in Pakistan\",\n",
    "        \"Sunlight — The Natural Supplement For Our Mental Health\", \"Occam’s dice\", \"Is Six Feet of Social Distancing Always Necessary?\",\n",
    "        \"Grandma Wants Revenge on Reindeer Who Ran Her Over\", \"Exploring the question of whether submarines can swim\",\n",
    "        \"Predicting American ICU Saturation During COVID-19\", \"Purge your Followers, Bring an Instagram Account Back to Life\"\n",
    "    ],\n",
    "    'text': [\"Merry Christmas...\" * 100, \"Your Brain...\" * 150, \"Mind Your Nose...\" * 120, \"Passionate about...\" * 80,\n",
    "             \"You’ve heard...\" * 90, \"Mentally, Young...\" * 110, \"How to Turn...\" * 130, \"Dr Faisal Dar...\" * 140,\n",
    "             \"Sunlight — The...\" * 100, \"Occam’s dice...\" * 160, \"6 Feet Apart...\" * 115, \"Grandma Wants...\" * 85,\n",
    "             \"Exploring the...\" * 95, \"Like everybody...\" * 145, \"Purge your...\" * 105],\n",
    "    'authors': [['Ryan Fan'], ['Simon Spichak'], [], ['Eshan Samaranayake'], ['Rishav Sinha'], ['Ryan Fan'], ['Frank Mckinley'],\n",
    "                ['Fatima Arif'], ['Jerren Gan'], ['Dr. Jason Fung'], ['Markham Heid'], ['Ryan Fan'], ['Danielle Boccelli'],\n",
    "                ['Bj Campbell'], ['Charles Tumiotto Jackson']],\n",
    "    'timestamp': ['2020-12-26', '2020-09-23', '2020-10-10', '2020-12-21', '2020-02-26', '2020-11-19', '2020-01-28',\n",
    "                  '2019-02-28', '2020-12-16', '2019-02-20', '2020-07-31', '2020-12-24', '2020-12-20', '2020-04-14',\n",
    "                  '2020-11-06'],\n",
    "    'tags': [['Mental Health', 'Health', 'Psychology', 'Science', 'Neuroscience'], ['Mental Health', 'Coronavirus', 'Science', 'Psychology', 'Neuroscience'],\n",
    "             ['Biotechnology', 'Neuroscience', 'Brain', 'Wellness', 'Science'], ['Health', 'Neuroscience', 'Mental Health', 'Psychology', 'Science'],\n",
    "             ['Brain', 'Health', 'Development', 'Psychology', 'Science'], ['Society', 'Mental Health', 'Health', 'Nonfiction', 'Coronavirus'],\n",
    "             ['Books', 'Entrepreneurship', 'Writing', 'Marketing', 'Productivity'], ['People', 'Storyfest', 'Health', 'Pakistan', 'Storytelling'],\n",
    "             ['Self Improvement', 'Mental Health', 'Health', 'Wellness', 'Science'], ['Longevity', 'Wellness', 'Aging', 'Health', 'Nutrition'],\n",
    "             ['Health', 'Pandemic', 'Covid 19', 'The Nuance', 'Coronavirus'], ['Social Media', 'Satire', 'Humor', 'Books', 'Music'],\n",
    "             ['AI', 'Artificial Intelligence', 'Data Science', 'Computer Science', 'NLP'], ['Coronavirus', 'Covid 19', 'Health', 'Media Criticism', 'Random'],\n",
    "             ['Marketing', 'Business', 'Startup', 'Social Media', 'Instagram']]\n",
    "}\n",
    "\n",
    "\n",
    "\n"
   ]
  },
  {
   "cell_type": "code",
   "execution_count": null,
   "metadata": {
    "id": "lN7SsfnNHESu"
   },
   "outputs": [],
   "source": [
    "# 2. Feature Scaling\n",
    "# Min-Max Scaling\n",
    "minmax_scaler = MinMaxScaler()\n",
    "df_minmax = pd.DataFrame(minmax_scaler.fit_transform(df[numerical_cols]), columns=[f\"{col}_minmax\" for col in numerical_cols])"
   ]
  },
  {
   "cell_type": "code",
   "execution_count": null,
   "metadata": {
    "id": "cOnoOlBAHLAr"
   },
   "outputs": [],
   "source": [
    "\n",
    "# Standardization\n",
    "standard_scaler = StandardScaler()\n",
    "df_standard = pd.DataFrame(standard_scaler.fit_transform(df[numerical_cols]), columns=[f\"{col}_std\" for col in numerical_cols])\n"
   ]
  },
  {
   "cell_type": "code",
   "execution_count": null,
   "metadata": {
    "id": "OQix4WbwHO_t"
   },
   "outputs": [],
   "source": [
    "\n",
    "\n",
    "\n",
    "# Combine with original DataFrame\n",
    "df = pd.concat([df, df_minmax, df_standard], axis=1)\n",
    "print(\"\\nScaled Features (first few rows):\")\n",
    "print(df[[f\"{col}_minmax\" for col in numerical_cols] + [f\"{col}_std\" for col in numerical_cols]].head())"
   ]
  },
  {
   "cell_type": "code",
   "execution_count": null,
   "metadata": {
    "id": "M6ldlAdLHSED"
   },
   "outputs": [],
   "source": [
    "\n",
    "\n",
    "# 3. Create New Meaningful Features\n",
    "# Feature 1: Text Complexity (Flesch Reading Ease Score)\n",
    "df['text_complexity'] = df['text'].apply(flesch_reading_ease)  # Higher score = easier to read\n"
   ]
  },
  {
   "cell_type": "code",
   "execution_count": null,
   "metadata": {
    "id": "CDu84_RJHTXM"
   },
   "outputs": [],
   "source": [
    "\n",
    "# Feature 2: Is Weekend Publication (domain knowledge: weekend posts might get more engagement)\n",
    "df['is_weekend'] = df['timestamp'].dt.dayofweek.isin([5, 6]).astype(int)  # 5=Saturday, 6=Sunday"
   ]
  },
  {
   "cell_type": "code",
   "execution_count": null,
   "metadata": {
    "id": "sBZCmAkUHWj9"
   },
   "outputs": [],
   "source": [
    "\n",
    "# Feature 3: Tag Diversity (unique tags as a proxy for topic breadth)\n",
    "all_tags = set(tag for tags in df['tags'] for tag in tags)\n",
    "tag_to_idx = {tag: i for i, tag in enumerate(all_tags)}\n",
    "df['tag_diversity'] = df['tags'].apply(lambda tags: len(set(tags)) / len(all_tags))"
   ]
  },
  {
   "cell_type": "code",
   "execution_count": null,
   "metadata": {
    "id": "vhhRSdhZHZhU"
   },
   "outputs": [],
   "source": [
    "\n",
    "# Feature 4: Seasonality (quarter of the year)\n",
    "df['seasonality'] = df['timestamp'].dt.quarter"
   ]
  },
  {
   "cell_type": "code",
   "execution_count": null,
   "metadata": {
    "id": "UcCi5pFdHcv7"
   },
   "outputs": [],
   "source": [
    "\n",
    "# Display new features\n",
    "print(\"\\nNew Features (first few rows):\")\n",
    "print(df[['text_complexity', 'is_weekend', 'tag_diversity', 'seasonality']].head())\n"
   ]
  },
  {
   "cell_type": "code",
   "execution_count": null,
   "metadata": {
    "id": "knXr7z7eHgT4"
   },
   "outputs": [],
   "source": [
    "# Re-assess correlations with new features\n",
    "new_features = ['text_complexity', 'is_weekend', 'tag_diversity', 'seasonality']\n",
    "new_correlations = {col: pearsonr(df[col], df['engagement'])[0] for col in new_features}\n",
    "print(\"\\nCorrelations of New Features with Engagement:\")\n",
    "for col, corr in new_correlations.items():\n",
    "    print(f\"{col}: {corr:.3f}\")"
   ]
  },
  {
   "cell_type": "code",
   "execution_count": null,
   "metadata": {
    "id": "PDrhg1wzHm4o"
   },
   "outputs": [],
   "source": [
    "# Update relevant features\n",
    "relevant_features.extend([col for col, corr in new_correlations.items() if abs(corr) > 0.1])\n",
    "print(\"\\nUpdated Relevant Features (abs(corr) > 0.1):\", list(set(relevant_features)))"
   ]
  },
  {
   "cell_type": "code",
   "execution_count": null,
   "metadata": {},
   "outputs": [],
   "source": []
  },
  {
   "cell_type": "code",
   "execution_count": null,
   "metadata": {},
   "outputs": [],
   "source": []
  }
 ],
 "metadata": {
  "colab": {
   "provenance": []
  },
  "kernelspec": {
   "display_name": "base",
   "language": "python",
   "name": "python3"
  },
  "language_info": {
   "codemirror_mode": {
    "name": "ipython",
    "version": 3
   },
   "file_extension": ".py",
   "mimetype": "text/x-python",
   "name": "python",
   "nbconvert_exporter": "python",
   "pygments_lexer": "ipython3",
   "version": "3.11.7"
  }
 },
 "nbformat": 4,
 "nbformat_minor": 4
}
