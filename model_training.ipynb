{
 "cells": [
  {
   "cell_type": "code",
   "execution_count": null,
   "id": "8b293983-e9aa-4266-92ab-4aa88d5ef5b3",
   "metadata": {},
   "outputs": [],
   "source": [
    "import pandas as pd\n",
    "import numpy as np\n",
    "import gc\n",
    "from sklearn.model_selection import train_test_split\n",
    "from sklearn.linear_model import LogisticRegression\n",
    "from sklearn.metrics import classification_report, accuracy_score"
   ]
  },
  {
   "cell_type": "code",
   "execution_count": null,
   "id": "0acc06a2-605d-4a3b-ba7b-faec897cf94f",
   "metadata": {},
   "outputs": [],
   "source": [
    "df = pd.read_csv(\"model_dataset.csv\")"
   ]
  },
  {
   "cell_type": "code",
   "execution_count": null,
   "id": "7978e7ab-56d5-462d-8a98-96fbecd14024",
   "metadata": {},
   "outputs": [],
   "source": [
    "df_small = df.sample(n=50000, random_state=42)\n",
    "\n",
    "# Step 3: Simulate the engagement column (for testing)\n",
    "np.random.seed(42)\n",
    "df_small['engagement'] = np.random.choice([0, 1], size=len(df_small))"
   ]
  },
  {
   "cell_type": "code",
   "execution_count": null,
   "id": "b38f34ee-7ad9-47f4-b967-48bb931a31d1",
   "metadata": {},
   "outputs": [],
   "source": [
    "X = df_small.drop(columns=['engagement'])\n",
    "y = df_small['engagement']\n"
   ]
  },
  {
   "cell_type": "code",
   "execution_count": null,
   "id": "6c4f44fc-4ec0-4af5-80b1-3809c442a9ed",
   "metadata": {},
   "outputs": [],
   "source": [
    "gc.collect()"
   ]
  },
  {
   "cell_type": "code",
   "execution_count": null,
   "id": "383a28af-e108-4454-8530-3de7bad9d65f",
   "metadata": {},
   "outputs": [],
   "source": [
    "X_train, X_test, y_train, y_test = train_test_split(X, y, test_size=0.2, random_state=42)"
   ]
  },
  {
   "cell_type": "code",
   "execution_count": null,
   "id": "75f287ca-7788-40e2-a36a-c7f30a8482e4",
   "metadata": {},
   "outputs": [],
   "source": [
    "model = LogisticRegression(max_iter=1000)\n",
    "model.fit(X_train, y_train)\n"
   ]
  },
  {
   "cell_type": "code",
   "execution_count": null,
   "id": "8b275806-4761-48c7-ad13-4e870cbe7342",
   "metadata": {},
   "outputs": [],
   "source": [
    "y_pred = model.predict(X_test)"
   ]
  },
  {
   "cell_type": "code",
   "execution_count": null,
   "id": "2b41212c-0790-4286-81bb-4c81821671d3",
   "metadata": {},
   "outputs": [],
   "source": [
    "print(\" Accuracy:\", accuracy_score(y_test, y_pred))"
   ]
  },
  {
   "cell_type": "code",
   "execution_count": null,
   "id": "5e909aba-a8e0-42bc-901b-37105c72d143",
   "metadata": {},
   "outputs": [],
   "source": [
    "print(\"\\n Classification Report:\\n\", classification_report(y_test, y_pred))"
   ]
  }
 ],
 "metadata": {
  "kernelspec": {
   "display_name": "Python 3 (ipykernel)",
   "language": "python",
   "name": "python3"
  },
  "language_info": {
   "codemirror_mode": {
    "name": "ipython",
    "version": 3
   },
   "file_extension": ".py",
   "mimetype": "text/x-python",
   "name": "python",
   "nbconvert_exporter": "python",
   "pygments_lexer": "ipython3",
   "version": "3.12.7"
  }
 },
 "nbformat": 4,
 "nbformat_minor": 5
}
